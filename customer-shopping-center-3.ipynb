{
 "cells": [
  {
   "cell_type": "markdown",
   "id": "a781e08c",
   "metadata": {},
   "source": [
    "# customer shopping center Dataset "
   ]
  },
  {
   "cell_type": "markdown",
   "id": "7cd3b6df",
   "metadata": {},
   "source": [
    "Creating a project plan for a customer shopping center involves detailing the steps and components required to develop and implement a comprehensive solution. Below is an outline of the key elements to include in such a project:\n",
    "Dataset Description\n",
    "\n",
    "Type of Data\n",
    "The dataset contains both numerical and categorical data related to customer shopping behavior.\n",
    "\n",
    "File Format\n",
    "The dataset is provided in an Excel file (customer_shopping_data.xls).\n",
    "\n",
    "Columns\n",
    "A brief description of some of the key columns in the dataset:\n",
    "\n",
    "CustomerID: Unique identifier for each customer.\n",
    "\n",
    "Type: Numerical\n",
    "Significance: This column uniquely identifies each customer in the dataset, allowing for the tracking of individual shopping behaviors.\n",
    "Gender: Gender of the customer (e.g., Male, Female).\n",
    "\n",
    "Type: Categorical\n",
    "Significance: Gender can be used to analyze shopping behaviors and preferences between different gender groups.\n",
    "Age: Age of the customer.\n",
    "\n",
    "Type: Numerical\n",
    "Significance: Age can influence shopping habits and preferences. Analyzing age data can help identify trends among different age groups.\n",
    "Annual Income (k$): Annual income of the customer in thousands of dollars.\n",
    "\n",
    "Type: Numerical\n",
    "Significance: Income levels can affect purchasing power and shopping preferences. This column is crucial for segmenting customers based on their income.\n",
    "Spending Score : Score assigned by the shopping center based on customer behavior and spending nature.\n",
    "\n",
    "Type: Numerical\n",
    "Significance: The spending score is an important metric for understanding customer value and loyalty. Higher scores may indicate more frequent or higher value purchases.\n",
    "Other Potential Columns:\n",
    "\n",
    "Purchase History: Details of past purchases made by the customer.\n",
    "\n",
    "Type: Categorical/Numerical\n",
    "Significance: Analyzing purchase history can provide insights into customer preferences and buying patterns.\n",
    "Membership Status: Indicates whether a customer is part of a loyalty program.\n",
    "\n",
    "Type: Categorical\n",
    "Significance: Membership data can help assess the impact of loyalty programs on shopping behavior.\n",
    "Feedback: Customer feedback or ratings for products/services.\n",
    "\n",
    "Type: Text/Categorical\n",
    "Significance: Feedback can be used to improve products/services and understand customer satisfaction levels.\n",
    "\n",
    "\n",
    " Conclusion:\n",
    "Developing a detailed project plan for a customer shopping center involves careful planning, collaboration, and execution to deliver a successful solution that meets customer needs and business objectives. By following a structured approach and leveraging best practices in software development and project management, you can ensure the project's success and drive positive outcomes for the shopping center and its customers."
   ]
  },
  {
   "cell_type": "markdown",
   "id": "483a7219",
   "metadata": {},
   "source": []
  },
  {
   "cell_type": "code",
   "execution_count": 1,
   "id": "292b8b2f",
   "metadata": {},
   "outputs": [],
   "source": [
    "import pandas as pd\n",
    "import numpy as np\n",
    "import scipy.stats as st\n",
    "from sklearn.linear_model import LinearRegression\n",
    "import statsmodels.api as sm\n",
    "import statsmodels.formula.api as smf\n",
    "import matplotlib.pyplot as plt\n",
    "import seaborn as sns\n"
   ]
  },
  {
   "cell_type": "code",
   "execution_count": 2,
   "id": "0069f329",
   "metadata": {},
   "outputs": [],
   "source": [
    "file_path=pd.read_csv('customer_shopping_data.csv')\n",
    "df=pd.read_csv('customer_shopping_data.csv')\n",
    "\n",
    "# Load the dataset"
   ]
  },
  {
   "cell_type": "code",
   "execution_count": 3,
   "id": "fa9e844e",
   "metadata": {},
   "outputs": [
    {
     "data": {
      "text/html": [
       "<div>\n",
       "<style scoped>\n",
       "    .dataframe tbody tr th:only-of-type {\n",
       "        vertical-align: middle;\n",
       "    }\n",
       "\n",
       "    .dataframe tbody tr th {\n",
       "        vertical-align: top;\n",
       "    }\n",
       "\n",
       "    .dataframe thead th {\n",
       "        text-align: right;\n",
       "    }\n",
       "</style>\n",
       "<table border=\"1\" class=\"dataframe\">\n",
       "  <thead>\n",
       "    <tr style=\"text-align: right;\">\n",
       "      <th></th>\n",
       "      <th>age</th>\n",
       "      <th>quantity</th>\n",
       "      <th>price</th>\n",
       "    </tr>\n",
       "  </thead>\n",
       "  <tbody>\n",
       "    <tr>\n",
       "      <th>count</th>\n",
       "      <td>99457.000000</td>\n",
       "      <td>99457.000000</td>\n",
       "      <td>99457.000000</td>\n",
       "    </tr>\n",
       "    <tr>\n",
       "      <th>mean</th>\n",
       "      <td>43.427089</td>\n",
       "      <td>3.003429</td>\n",
       "      <td>689.256321</td>\n",
       "    </tr>\n",
       "    <tr>\n",
       "      <th>std</th>\n",
       "      <td>14.990054</td>\n",
       "      <td>1.413025</td>\n",
       "      <td>941.184567</td>\n",
       "    </tr>\n",
       "    <tr>\n",
       "      <th>min</th>\n",
       "      <td>18.000000</td>\n",
       "      <td>1.000000</td>\n",
       "      <td>5.230000</td>\n",
       "    </tr>\n",
       "    <tr>\n",
       "      <th>25%</th>\n",
       "      <td>30.000000</td>\n",
       "      <td>2.000000</td>\n",
       "      <td>45.450000</td>\n",
       "    </tr>\n",
       "    <tr>\n",
       "      <th>50%</th>\n",
       "      <td>43.000000</td>\n",
       "      <td>3.000000</td>\n",
       "      <td>203.300000</td>\n",
       "    </tr>\n",
       "    <tr>\n",
       "      <th>75%</th>\n",
       "      <td>56.000000</td>\n",
       "      <td>4.000000</td>\n",
       "      <td>1200.320000</td>\n",
       "    </tr>\n",
       "    <tr>\n",
       "      <th>max</th>\n",
       "      <td>69.000000</td>\n",
       "      <td>5.000000</td>\n",
       "      <td>5250.000000</td>\n",
       "    </tr>\n",
       "  </tbody>\n",
       "</table>\n",
       "</div>"
      ],
      "text/plain": [
       "                age      quantity         price\n",
       "count  99457.000000  99457.000000  99457.000000\n",
       "mean      43.427089      3.003429    689.256321\n",
       "std       14.990054      1.413025    941.184567\n",
       "min       18.000000      1.000000      5.230000\n",
       "25%       30.000000      2.000000     45.450000\n",
       "50%       43.000000      3.000000    203.300000\n",
       "75%       56.000000      4.000000   1200.320000\n",
       "max       69.000000      5.000000   5250.000000"
      ]
     },
     "execution_count": 3,
     "metadata": {},
     "output_type": "execute_result"
    }
   ],
   "source": [
    "df.describe()\n",
    "#give out information about the project"
   ]
  },
  {
   "cell_type": "code",
   "execution_count": 4,
   "id": "205353c5",
   "metadata": {
    "scrolled": false
   },
   "outputs": [
    {
     "name": "stdout",
     "output_type": "stream",
     "text": [
      "<class 'pandas.core.frame.DataFrame'>\n",
      "RangeIndex: 99457 entries, 0 to 99456\n",
      "Data columns (total 10 columns):\n",
      " #   Column          Non-Null Count  Dtype  \n",
      "---  ------          --------------  -----  \n",
      " 0   invoice_no      99457 non-null  object \n",
      " 1   customer_id     99457 non-null  object \n",
      " 2   gender          99457 non-null  object \n",
      " 3   age             99457 non-null  int64  \n",
      " 4   category        99457 non-null  object \n",
      " 5   quantity        99457 non-null  int64  \n",
      " 6   price           99457 non-null  float64\n",
      " 7   payment_method  99457 non-null  object \n",
      " 8   invoice_date    99457 non-null  object \n",
      " 9   shopping_mall   99457 non-null  object \n",
      "dtypes: float64(1), int64(2), object(7)\n",
      "memory usage: 7.6+ MB\n",
      "None\n",
      "  invoice_no customer_id  gender  age  category  quantity    price  \\\n",
      "0    I138884     C241288  Female   28  Clothing         5  1500.40   \n",
      "1    I317333     C111565    Male   21     Shoes         3  1800.51   \n",
      "2    I127801     C266599    Male   20  Clothing         1   300.08   \n",
      "3    I173702     C988172  Female   66     Shoes         5  3000.85   \n",
      "4    I337046     C189076  Female   53     Books         4    60.60   \n",
      "\n",
      "  payment_method invoice_date   shopping_mall  \n",
      "0    Credit Card   05/08/2022          Kanyon  \n",
      "1     Debit Card   12/12/2021  Forum Istanbul  \n",
      "2           Cash   09/11/2021       Metrocity  \n",
      "3    Credit Card   16/05/2021    Metropol AVM  \n",
      "4           Cash   24/10/2021          Kanyon  \n",
      "      invoice_no customer_id  gender  age         category  quantity    price  \\\n",
      "99452    I219422     C441542  Female   45         Souvenir         5    58.65   \n",
      "99453    I325143     C569580    Male   27  Food & Beverage         2    10.46   \n",
      "99454    I824010     C103292    Male   63  Food & Beverage         2    10.46   \n",
      "99455    I702964     C800631    Male   56       Technology         4  4200.00   \n",
      "99456    I232867     C273973  Female   36         Souvenir         3    35.19   \n",
      "\n",
      "      payment_method invoice_date     shopping_mall  \n",
      "99452    Credit Card   21/09/2022            Kanyon  \n",
      "99453           Cash   22/09/2021    Forum Istanbul  \n",
      "99454     Debit Card   28/03/2021         Metrocity  \n",
      "99455           Cash   16/03/2021      Istinye Park  \n",
      "99456    Credit Card   15/10/2022  Mall of Istanbul  \n"
     ]
    }
   ],
   "source": [
    "# Display basic information about the dataset\n",
    "\n",
    "print(df.info())\n",
    "print(df.head())\n",
    "print(df.tail())\n"
   ]
  },
  {
   "cell_type": "markdown",
   "id": "423b39ea",
   "metadata": {},
   "source": [
    "# Segment 1: Frequentist Statistics"
   ]
  },
  {
   "cell_type": "code",
   "execution_count": 5,
   "id": "3a34166f",
   "metadata": {},
   "outputs": [],
   "source": [
    "x = st.skewnorm.rvs(1, size=1000)\n",
    "# arg1 default is 1 (normal) above that generate right skweed\n",
    "# and below it will generate left skweed\n",
    "# the amount of skeeness depend on the number ratio to size "
   ]
  },
  {
   "cell_type": "code",
   "execution_count": 6,
   "id": "4371467b",
   "metadata": {
    "scrolled": false
   },
   "outputs": [
    {
     "data": {
      "text/plain": [
       "array([[<Axes: title={'center': 'price'}>]], dtype=object)"
      ]
     },
     "execution_count": 6,
     "metadata": {},
     "output_type": "execute_result"
    },
    {
     "data": {
      "image/png": "[encoded data removed]",
      "text/plain": [
       "<Figure size 640x480 with 1 Axes>"
      ]
     },
     "metadata": {},
     "output_type": "display_data"
    }
   ],
   "source": [
    "df.hist (['price'])"
   ]
  },
  {
   "cell_type": "code",
   "execution_count": 7,
   "id": "0c15b898",
   "metadata": {},
   "outputs": [
    {
     "data": {
      "text/plain": [
       "array([[<Axes: title={'center': 'age'}>]], dtype=object)"
      ]
     },
     "execution_count": 7,
     "metadata": {},
     "output_type": "execute_result"
    },
    {
     "data": {
      "image/png": "[encoded data removed]",
      "text/plain": [
       "<Figure size 640x480 with 1 Axes>"
      ]
     },
     "metadata": {},
     "output_type": "display_data"
    }
   ],
   "source": [
    "df.hist (['age'])"
   ]
  },
  {
   "cell_type": "code",
   "execution_count": 8,
   "id": "2089ab90",
   "metadata": {
    "scrolled": true
   },
   "outputs": [
    {
     "name": "stderr",
     "output_type": "stream",
     "text": [
      "/opt/anaconda3/lib/python3.11/site-packages/seaborn/_oldcore.py:1119: FutureWarning: use_inf_as_na option is deprecated and will be removed in a future version. Convert inf values to NaN before operating instead.\n",
      "  with pd.option_context('mode.use_inf_as_na', True):\n",
      "/opt/anaconda3/lib/python3.11/site-packages/seaborn/_oldcore.py:1119: FutureWarning: use_inf_as_na option is deprecated and will be removed in a future version. Convert inf values to NaN before operating instead.\n",
      "  with pd.option_context('mode.use_inf_as_na', True):\n",
      "/opt/anaconda3/lib/python3.11/site-packages/seaborn/_oldcore.py:1119: FutureWarning: use_inf_as_na option is deprecated and will be removed in a future version. Convert inf values to NaN before operating instead.\n",
      "  with pd.option_context('mode.use_inf_as_na', True):\n"
     ]
    },
    {
     "data": {
      "text/plain": [
       "<seaborn.axisgrid.PairGrid at 0x14f3a77d0>"
      ]
     },
     "execution_count": 8,
     "metadata": {},
     "output_type": "execute_result"
    },
    {
     "data": {
      "image/png": "[encoded data removed]",
      "text/plain": [
       "<Figure size 750x750 with 12 Axes>"
      ]
     },
     "metadata": {},
     "output_type": "display_data"
    }
   ],
   "source": [
    "sns.pairplot(df)"
   ]
  },
  {
   "cell_type": "code",
   "execution_count": 9,
   "id": "ac67df3d",
   "metadata": {
    "scrolled": false
   },
   "outputs": [
    {
     "data": {
      "text/html": [
       "<div>\n",
       "<style scoped>\n",
       "    .dataframe tbody tr th:only-of-type {\n",
       "        vertical-align: middle;\n",
       "    }\n",
       "\n",
       "    .dataframe tbody tr th {\n",
       "        vertical-align: top;\n",
       "    }\n",
       "\n",
       "    .dataframe thead th {\n",
       "        text-align: right;\n",
       "    }\n",
       "</style>\n",
       "<table border=\"1\" class=\"dataframe\">\n",
       "  <thead>\n",
       "    <tr style=\"text-align: right;\">\n",
       "      <th>price</th>\n",
       "      <th>5.23</th>\n",
       "      <th>10.46</th>\n",
       "      <th>11.73</th>\n",
       "      <th>15.15</th>\n",
       "      <th>15.69</th>\n",
       "      <th>20.92</th>\n",
       "      <th>23.46</th>\n",
       "      <th>26.15</th>\n",
       "      <th>30.30</th>\n",
       "      <th>35.19</th>\n",
       "      <th>...</th>\n",
       "      <th>1200.32</th>\n",
       "      <th>1200.34</th>\n",
       "      <th>1500.40</th>\n",
       "      <th>1800.51</th>\n",
       "      <th>2100.00</th>\n",
       "      <th>2400.68</th>\n",
       "      <th>3000.85</th>\n",
       "      <th>3150.00</th>\n",
       "      <th>4200.00</th>\n",
       "      <th>5250.00</th>\n",
       "    </tr>\n",
       "    <tr>\n",
       "      <th>category</th>\n",
       "      <th></th>\n",
       "      <th></th>\n",
       "      <th></th>\n",
       "      <th></th>\n",
       "      <th></th>\n",
       "      <th></th>\n",
       "      <th></th>\n",
       "      <th></th>\n",
       "      <th></th>\n",
       "      <th></th>\n",
       "      <th></th>\n",
       "      <th></th>\n",
       "      <th></th>\n",
       "      <th></th>\n",
       "      <th></th>\n",
       "      <th></th>\n",
       "      <th></th>\n",
       "      <th></th>\n",
       "      <th></th>\n",
       "      <th></th>\n",
       "      <th></th>\n",
       "    </tr>\n",
       "  </thead>\n",
       "  <tbody>\n",
       "    <tr>\n",
       "      <th>Books</th>\n",
       "      <td>0</td>\n",
       "      <td>0</td>\n",
       "      <td>0</td>\n",
       "      <td>985</td>\n",
       "      <td>0</td>\n",
       "      <td>0</td>\n",
       "      <td>0</td>\n",
       "      <td>0</td>\n",
       "      <td>1008</td>\n",
       "      <td>0</td>\n",
       "      <td>...</td>\n",
       "      <td>0</td>\n",
       "      <td>0</td>\n",
       "      <td>0</td>\n",
       "      <td>0</td>\n",
       "      <td>0</td>\n",
       "      <td>0</td>\n",
       "      <td>0</td>\n",
       "      <td>0</td>\n",
       "      <td>0</td>\n",
       "      <td>0</td>\n",
       "    </tr>\n",
       "    <tr>\n",
       "      <th>Clothing</th>\n",
       "      <td>0</td>\n",
       "      <td>0</td>\n",
       "      <td>0</td>\n",
       "      <td>0</td>\n",
       "      <td>0</td>\n",
       "      <td>0</td>\n",
       "      <td>0</td>\n",
       "      <td>0</td>\n",
       "      <td>0</td>\n",
       "      <td>0</td>\n",
       "      <td>...</td>\n",
       "      <td>6849</td>\n",
       "      <td>0</td>\n",
       "      <td>6940</td>\n",
       "      <td>0</td>\n",
       "      <td>0</td>\n",
       "      <td>0</td>\n",
       "      <td>0</td>\n",
       "      <td>0</td>\n",
       "      <td>0</td>\n",
       "      <td>0</td>\n",
       "    </tr>\n",
       "    <tr>\n",
       "      <th>Cosmetics</th>\n",
       "      <td>0</td>\n",
       "      <td>0</td>\n",
       "      <td>0</td>\n",
       "      <td>0</td>\n",
       "      <td>0</td>\n",
       "      <td>0</td>\n",
       "      <td>0</td>\n",
       "      <td>0</td>\n",
       "      <td>0</td>\n",
       "      <td>0</td>\n",
       "      <td>...</td>\n",
       "      <td>0</td>\n",
       "      <td>0</td>\n",
       "      <td>0</td>\n",
       "      <td>0</td>\n",
       "      <td>0</td>\n",
       "      <td>0</td>\n",
       "      <td>0</td>\n",
       "      <td>0</td>\n",
       "      <td>0</td>\n",
       "      <td>0</td>\n",
       "    </tr>\n",
       "    <tr>\n",
       "      <th>Food &amp; Beverage</th>\n",
       "      <td>3002</td>\n",
       "      <td>2909</td>\n",
       "      <td>0</td>\n",
       "      <td>0</td>\n",
       "      <td>2992</td>\n",
       "      <td>2884</td>\n",
       "      <td>0</td>\n",
       "      <td>2989</td>\n",
       "      <td>0</td>\n",
       "      <td>0</td>\n",
       "      <td>...</td>\n",
       "      <td>0</td>\n",
       "      <td>0</td>\n",
       "      <td>0</td>\n",
       "      <td>0</td>\n",
       "      <td>0</td>\n",
       "      <td>0</td>\n",
       "      <td>0</td>\n",
       "      <td>0</td>\n",
       "      <td>0</td>\n",
       "      <td>0</td>\n",
       "    </tr>\n",
       "    <tr>\n",
       "      <th>Shoes</th>\n",
       "      <td>0</td>\n",
       "      <td>0</td>\n",
       "      <td>0</td>\n",
       "      <td>0</td>\n",
       "      <td>0</td>\n",
       "      <td>0</td>\n",
       "      <td>0</td>\n",
       "      <td>0</td>\n",
       "      <td>0</td>\n",
       "      <td>0</td>\n",
       "      <td>...</td>\n",
       "      <td>0</td>\n",
       "      <td>2045</td>\n",
       "      <td>0</td>\n",
       "      <td>2010</td>\n",
       "      <td>0</td>\n",
       "      <td>2022</td>\n",
       "      <td>2013</td>\n",
       "      <td>0</td>\n",
       "      <td>0</td>\n",
       "      <td>0</td>\n",
       "    </tr>\n",
       "    <tr>\n",
       "      <th>Souvenir</th>\n",
       "      <td>0</td>\n",
       "      <td>0</td>\n",
       "      <td>1024</td>\n",
       "      <td>0</td>\n",
       "      <td>0</td>\n",
       "      <td>0</td>\n",
       "      <td>984</td>\n",
       "      <td>0</td>\n",
       "      <td>0</td>\n",
       "      <td>1077</td>\n",
       "      <td>...</td>\n",
       "      <td>0</td>\n",
       "      <td>0</td>\n",
       "      <td>0</td>\n",
       "      <td>0</td>\n",
       "      <td>0</td>\n",
       "      <td>0</td>\n",
       "      <td>0</td>\n",
       "      <td>0</td>\n",
       "      <td>0</td>\n",
       "      <td>0</td>\n",
       "    </tr>\n",
       "    <tr>\n",
       "      <th>Technology</th>\n",
       "      <td>0</td>\n",
       "      <td>0</td>\n",
       "      <td>0</td>\n",
       "      <td>0</td>\n",
       "      <td>0</td>\n",
       "      <td>0</td>\n",
       "      <td>0</td>\n",
       "      <td>0</td>\n",
       "      <td>0</td>\n",
       "      <td>0</td>\n",
       "      <td>...</td>\n",
       "      <td>0</td>\n",
       "      <td>0</td>\n",
       "      <td>0</td>\n",
       "      <td>0</td>\n",
       "      <td>1000</td>\n",
       "      <td>0</td>\n",
       "      <td>0</td>\n",
       "      <td>1009</td>\n",
       "      <td>1001</td>\n",
       "      <td>1001</td>\n",
       "    </tr>\n",
       "    <tr>\n",
       "      <th>Toys</th>\n",
       "      <td>0</td>\n",
       "      <td>0</td>\n",
       "      <td>0</td>\n",
       "      <td>0</td>\n",
       "      <td>0</td>\n",
       "      <td>0</td>\n",
       "      <td>0</td>\n",
       "      <td>0</td>\n",
       "      <td>0</td>\n",
       "      <td>0</td>\n",
       "      <td>...</td>\n",
       "      <td>0</td>\n",
       "      <td>0</td>\n",
       "      <td>0</td>\n",
       "      <td>0</td>\n",
       "      <td>0</td>\n",
       "      <td>0</td>\n",
       "      <td>0</td>\n",
       "      <td>0</td>\n",
       "      <td>0</td>\n",
       "      <td>0</td>\n",
       "    </tr>\n",
       "  </tbody>\n",
       "</table>\n",
       "<p>8 rows × 40 columns</p>\n",
       "</div>"
      ],
      "text/plain": [
       "price            5.23     10.46    11.73    15.15    15.69    20.92    \\\n",
       "category                                                                \n",
       "Books                  0        0        0      985        0        0   \n",
       "Clothing               0        0        0        0        0        0   \n",
       "Cosmetics              0        0        0        0        0        0   \n",
       "Food & Beverage     3002     2909        0        0     2992     2884   \n",
       "Shoes                  0        0        0        0        0        0   \n",
       "Souvenir               0        0     1024        0        0        0   \n",
       "Technology             0        0        0        0        0        0   \n",
       "Toys                   0        0        0        0        0        0   \n",
       "\n",
       "price            23.46    26.15    30.30    35.19    ...  1200.32  1200.34  \\\n",
       "category                                             ...                     \n",
       "Books                  0        0     1008        0  ...        0        0   \n",
       "Clothing               0        0        0        0  ...     6849        0   \n",
       "Cosmetics              0        0        0        0  ...        0        0   \n",
       "Food & Beverage        0     2989        0        0  ...        0        0   \n",
       "Shoes                  0        0        0        0  ...        0     2045   \n",
       "Souvenir             984        0        0     1077  ...        0        0   \n",
       "Technology             0        0        0        0  ...        0        0   \n",
       "Toys                   0        0        0        0  ...        0        0   \n",
       "\n",
       "price            1500.40  1800.51  2100.00  2400.68  3000.85  3150.00  \\\n",
       "category                                                                \n",
       "Books                  0        0        0        0        0        0   \n",
       "Clothing            6940        0        0        0        0        0   \n",
       "Cosmetics              0        0        0        0        0        0   \n",
       "Food & Beverage        0        0        0        0        0        0   \n",
       "Shoes                  0     2010        0     2022     2013        0   \n",
       "Souvenir               0        0        0        0        0        0   \n",
       "Technology             0        0     1000        0        0     1009   \n",
       "Toys                   0        0        0        0        0        0   \n",
       "\n",
       "price            4200.00  5250.00  \n",
       "category                           \n",
       "Books                  0        0  \n",
       "Clothing               0        0  \n",
       "Cosmetics              0        0  \n",
       "Food & Beverage        0        0  \n",
       "Shoes                  0        0  \n",
       "Souvenir               0        0  \n",
       "Technology          1001     1001  \n",
       "Toys                   0        0  \n",
       "\n",
       "[8 rows x 40 columns]"
      ]
     },
     "execution_count": 9,
     "metadata": {},
     "output_type": "execute_result"
    }
   ],
   "source": [
    "pd.crosstab(df['category'] ,df['price'])"
   ]
  },
  {
   "cell_type": "code",
   "execution_count": 10,
   "id": "a9c8063f",
   "metadata": {
    "scrolled": true
   },
   "outputs": [
    {
     "name": "stderr",
     "output_type": "stream",
     "text": [
      "/var/folders/xk/9_lngvss5d76szdt_6qm32gc0000gn/T/ipykernel_30480/3234920688.py:1: UserWarning: \n",
      "\n",
      "`distplot` is a deprecated function and will be removed in seaborn v0.14.0.\n",
      "\n",
      "Please adapt your code to use either `displot` (a figure-level function with\n",
      "similar flexibility) or `histplot` (an axes-level function for histograms).\n",
      "\n",
      "For a guide to updating your code to use the new functions, please see\n",
      "https://gist.github.com/mwaskom/de44147ed2974457ad6372750bbe5751\n",
      "\n",
      "  sns.distplot(df['age'])\n",
      "/opt/anaconda3/lib/python3.11/site-packages/seaborn/_oldcore.py:1119: FutureWarning: use_inf_as_na option is deprecated and will be removed in a future version. Convert inf values to NaN before operating instead.\n",
      "  with pd.option_context('mode.use_inf_as_na', True):\n"
     ]
    },
    {
     "data": {
      "text/plain": [
       "<Axes: xlabel='age', ylabel='Density'>"
      ]
     },
     "execution_count": 10,
     "metadata": {},
     "output_type": "execute_result"
    },
    {
     "data": {
      "image/png": "[encoded data removed]",
      "text/plain": [
       "<Figure size 640x480 with 1 Axes>"
      ]
     },
     "metadata": {},
     "output_type": "display_data"
    }
   ],
   "source": [
    "sns.distplot(df['age'])"
   ]
  },
  {
   "cell_type": "code",
   "execution_count": 11,
   "id": "4691d434",
   "metadata": {
    "scrolled": true
   },
   "outputs": [
    {
     "data": {
      "text/plain": [
       "array([<Axes: title={'center': 'Female'}>,\n",
       "       <Axes: title={'center': 'Male'}>], dtype=object)"
      ]
     },
     "execution_count": 11,
     "metadata": {},
     "output_type": "execute_result"
    },
    {
     "data": {
      "image/png": "[encoded data removed]",
      "text/plain": [
       "<Figure size 640x480 with 2 Axes>"
      ]
     },
     "metadata": {},
     "output_type": "display_data"
    }
   ],
   "source": [
    "df.hist(by='gender',column='age')"
   ]
  },
  {
   "cell_type": "code",
   "execution_count": 12,
   "id": "9c5665ff",
   "metadata": {
    "scrolled": true
   },
   "outputs": [
    {
     "data": {
      "text/plain": [
       "array([<Axes: title={'center': 'Female'}>,\n",
       "       <Axes: title={'center': 'Male'}>], dtype=object)"
      ]
     },
     "execution_count": 12,
     "metadata": {},
     "output_type": "execute_result"
    },
    {
     "data": {
      "image/png": "[encoded data removed]",
      "text/plain": [
       "<Figure size 640x480 with 2 Axes>"
      ]
     },
     "metadata": {},
     "output_type": "display_data"
    }
   ],
   "source": [
    "df.hist(by='gender',column='price')"
   ]
  },
  {
   "cell_type": "code",
   "execution_count": 13,
   "id": "421ad5da",
   "metadata": {},
   "outputs": [],
   "source": [
    "x = st.skewnorm.rvs(1, size=10000)\n",
    "# arg1 default is 1 (normal) above that generate right skweed\n",
    "# and below it will generate left skweed\n",
    "# the amount of skeeness depend on the number ratio to size "
   ]
  },
  {
   "cell_type": "code",
   "execution_count": 14,
   "id": "0db18111",
   "metadata": {},
   "outputs": [
    {
     "data": {
      "image/png": "[encoded data removed]",
      "text/plain": [
       "<Figure size 640x480 with 1 Axes>"
      ]
     },
     "metadata": {},
     "output_type": "display_data"
    }
   ],
   "source": [
    "fig, ax = plt.subplots()\n",
    "_ = plt.hist(x, color = 'red')"
   ]
  },
  {
   "cell_type": "code",
   "execution_count": 15,
   "id": "7232a4b3",
   "metadata": {},
   "outputs": [
    {
     "data": {
      "text/plain": [
       "0.562532740151104"
      ]
     },
     "execution_count": 15,
     "metadata": {},
     "output_type": "execute_result"
    }
   ],
   "source": [
    "xbar = x.mean()\n",
    "xbar"
   ]
  },
  {
   "cell_type": "code",
   "execution_count": 16,
   "id": "0f5fe7ec",
   "metadata": {},
   "outputs": [
    {
     "data": {
      "text/plain": [
       "0.5295455953576623"
      ]
     },
     "execution_count": 16,
     "metadata": {},
     "output_type": "execute_result"
    }
   ],
   "source": [
    "np.median(x) "
   ]
  },
  {
   "cell_type": "code",
   "execution_count": 17,
   "id": "70fbf7fc",
   "metadata": {},
   "outputs": [
    {
     "data": {
      "image/png": "[encoded data removed]",
      "text/plain": [
       "<Figure size 640x480 with 1 Axes>"
      ]
     },
     "metadata": {},
     "output_type": "display_data"
    }
   ],
   "source": [
    "fig, ax = plt.subplots()\n",
    "plt.axvline(x = x.mean(), color='red')\n",
    "_ = plt.hist(x, color = 'green')"
   ]
  },
  {
   "cell_type": "code",
   "execution_count": 24,
   "id": "49ae0b68",
   "metadata": {},
   "outputs": [
    {
     "data": {
      "image/png": "[encoded data removed]",
      "text/plain": [
       "<Figure size 640x480 with 1 Axes>"
      ]
     },
     "metadata": {},
     "output_type": "display_data"
    }
   ],
   "source": [
    "fig, ax = plt.subplots()\n",
    "plt.axvline(x = np.mean(x), color='red')\n",
    "plt.axvline(x = np.median(x), color='orange')\n",
    "_ = plt.hist(x, color = 'green')"
   ]
  },
  {
   "cell_type": "markdown",
   "id": "42c27023",
   "metadata": {},
   "source": [
    "### Measures of Dispersion\n"
   ]
  },
  {
   "cell_type": "code",
   "execution_count": null,
   "id": "96b86c74",
   "metadata": {},
   "outputs": [],
   "source": []
  },
  {
   "cell_type": "code",
   "execution_count": null,
   "id": "350e1731",
   "metadata": {},
   "outputs": [],
   "source": []
  },
  {
   "cell_type": "code",
   "execution_count": 25,
   "id": "99d77322",
   "metadata": {},
   "outputs": [
    {
     "data": {
      "text/plain": [
       "0.6993779666844057"
      ]
     },
     "execution_count": 25,
     "metadata": {},
     "output_type": "execute_result"
    }
   ],
   "source": [
    "x.var()"
   ]
  },
  {
   "cell_type": "markdown",
   "id": "a425e980",
   "metadata": {},
   "source": [
    "Standard Deviation\n"
   ]
  },
  {
   "cell_type": "code",
   "execution_count": null,
   "id": "578a4d34",
   "metadata": {},
   "outputs": [],
   "source": [
    "\n"
   ]
  },
  {
   "cell_type": "code",
   "execution_count": 26,
   "id": "5505f955",
   "metadata": {},
   "outputs": [
    {
     "data": {
      "text/plain": [
       "0.8362882079070622"
      ]
     },
     "execution_count": 26,
     "metadata": {},
     "output_type": "execute_result"
    }
   ],
   "source": [
    "x.var()**(1/2)"
   ]
  },
  {
   "cell_type": "code",
   "execution_count": 27,
   "id": "f28c0cb9",
   "metadata": {},
   "outputs": [
    {
     "data": {
      "text/plain": [
       "0.8362882079070622"
      ]
     },
     "execution_count": 27,
     "metadata": {},
     "output_type": "execute_result"
    }
   ],
   "source": [
    "sigma = x.std()\n",
    "sigma"
   ]
  },
  {
   "cell_type": "code",
   "execution_count": 28,
   "id": "f60b31ca",
   "metadata": {},
   "outputs": [
    {
     "data": {
      "image/png": "[encoded data removed]",
      "text/plain": [
       "<Figure size 640x480 with 1 Axes>"
      ]
     },
     "metadata": {},
     "output_type": "display_data"
    }
   ],
   "source": [
    "ig, ax = plt.subplots()\n",
    "plt.axvline(x = xbar, color='red')\n",
    "plt.axvline(x = xbar+sigma, color='olivedrab')\n",
    "plt.axvline(x = xbar-sigma, color='olivedrab')\n",
    "_ = plt.hist(x, color = 'blue')"
   ]
  },
  {
   "cell_type": "code",
   "execution_count": 29,
   "id": "dcf04e8d",
   "metadata": {},
   "outputs": [
    {
     "ename": "SyntaxError",
     "evalue": "invalid syntax (23821726.py, line 1)",
     "output_type": "error",
     "traceback": [
      "\u001b[0;36m  Cell \u001b[0;32mIn[29], line 1\u001b[0;36m\u001b[0m\n\u001b[0;31m    standarrd eror html\u001b[0m\n\u001b[0m              ^\u001b[0m\n\u001b[0;31mSyntaxError\u001b[0m\u001b[0;31m:\u001b[0m invalid syntax\n"
     ]
    }
   ],
   "source": []
  },
  {
   "cell_type": "code",
   "execution_count": null,
   "id": "ae9d36f4",
   "metadata": {},
   "outputs": [],
   "source": []
  },
  {
   "cell_type": "code",
   "execution_count": 31,
   "id": "c4994c7f",
   "metadata": {},
   "outputs": [
    {
     "data": {
      "text/plain": [
       "0.008362882079070622"
      ]
     },
     "execution_count": 31,
     "metadata": {},
     "output_type": "execute_result"
    }
   ],
   "source": [
    "sigma/(x.size)**(1/2)"
   ]
  },
  {
   "cell_type": "code",
   "execution_count": 32,
   "id": "d27a9c10",
   "metadata": {},
   "outputs": [
    {
     "data": {
      "text/plain": [
       "0.008363300254537997"
      ]
     },
     "execution_count": 32,
     "metadata": {},
     "output_type": "execute_result"
    }
   ],
   "source": [
    "st.sem(x) # defaults to 1 degree of freedom, which can be ignored with the larger data sets of ML"
   ]
  },
  {
   "cell_type": "code",
   "execution_count": 33,
   "id": "0125eccd",
   "metadata": {},
   "outputs": [
    {
     "data": {
      "text/plain": [
       "0.008362882079070622"
      ]
     },
     "execution_count": 33,
     "metadata": {},
     "output_type": "execute_result"
    }
   ],
   "source": [
    "st.sem(x, ddof=0)"
   ]
  },
  {
   "cell_type": "code",
   "execution_count": null,
   "id": "87857bb1",
   "metadata": {},
   "outputs": [],
   "source": []
  },
  {
   "cell_type": "code",
   "execution_count": null,
   "id": "151a3457",
   "metadata": {},
   "outputs": [],
   "source": []
  },
  {
   "cell_type": "code",
   "execution_count": null,
   "id": "dfdb5999",
   "metadata": {},
   "outputs": [],
   "source": []
  },
  {
   "cell_type": "code",
   "execution_count": null,
   "id": "49887d80",
   "metadata": {},
   "outputs": [],
   "source": []
  },
  {
   "cell_type": "code",
   "execution_count": null,
   "id": "8b809784",
   "metadata": {},
   "outputs": [],
   "source": []
  },
  {
   "cell_type": "markdown",
   "id": "4f25bfa4",
   "metadata": {},
   "source": [
    "# z-scores"
   ]
  },
  {
   "cell_type": "code",
   "execution_count": 35,
   "id": "77e10778",
   "metadata": {},
   "outputs": [],
   "source": [
    "x_i = 80\n",
    "mu = 75\n",
    "sigma = 3"
   ]
  },
  {
   "cell_type": "code",
   "execution_count": 36,
   "id": "0ad3016a",
   "metadata": {},
   "outputs": [],
   "source": [
    "x = np.random.normal(mu, sigma, 10000)"
   ]
  },
  {
   "cell_type": "code",
   "execution_count": 37,
   "id": "7ef2e382",
   "metadata": {},
   "outputs": [
    {
     "name": "stderr",
     "output_type": "stream",
     "text": [
      "/opt/anaconda3/lib/python3.11/site-packages/seaborn/_oldcore.py:1119: FutureWarning: use_inf_as_na option is deprecated and will be removed in a future version. Convert inf values to NaN before operating instead.\n",
      "  with pd.option_context('mode.use_inf_as_na', True):\n"
     ]
    },
    {
     "data": {
      "image/png": "[encoded data removed]",
      "text/plain": [
       "<Figure size 500x500 with 1 Axes>"
      ]
     },
     "metadata": {},
     "output_type": "display_data"
    }
   ],
   "source": [
    "sns.displot(x, color='gray')\n",
    "plt.axvline(mu, color='orange')\n",
    "for v in [-3, -2, -1, 1, 2, 3]:\n",
    "    plt.axvline(mu+v*sigma, color='olivedrab')\n",
    "_ = plt.axvline(x_i, color='purple')"
   ]
  },
  {
   "cell_type": "code",
   "execution_count": 38,
   "id": "2e13eff8",
   "metadata": {},
   "outputs": [
    {
     "data": {
      "text/plain": [
       "1.6666666666666667"
      ]
     },
     "execution_count": 38,
     "metadata": {},
     "output_type": "execute_result"
    }
   ],
   "source": [
    "z = (x_i - mu)/sigma\n",
    "z"
   ]
  },
  {
   "cell_type": "markdown",
   "id": "ddb509d3",
   "metadata": {},
   "source": [
    "our Z score is 1.6 sd above mean"
   ]
  },
  {
   "cell_type": "code",
   "execution_count": 39,
   "id": "fc8d4c2b",
   "metadata": {},
   "outputs": [
    {
     "data": {
      "text/plain": [
       "1.6677607800745688"
      ]
     },
     "execution_count": 39,
     "metadata": {},
     "output_type": "execute_result"
    }
   ],
   "source": [
    "z = (x_i - np.mean(x))/np.std(x)\n",
    "z"
   ]
  },
  {
   "cell_type": "code",
   "execution_count": 40,
   "id": "8dc17ba2",
   "metadata": {},
   "outputs": [
    {
     "data": {
      "text/plain": [
       "479"
      ]
     },
     "execution_count": 40,
     "metadata": {},
     "output_type": "execute_result"
    }
   ],
   "source": [
    "len(np.where(x > 80)[0])"
   ]
  },
  {
   "cell_type": "code",
   "execution_count": 41,
   "id": "3f4bb05e",
   "metadata": {},
   "outputs": [
    {
     "data": {
      "text/plain": [
       "4.92"
      ]
     },
     "execution_count": 41,
     "metadata": {},
     "output_type": "execute_result"
    }
   ],
   "source": [
    "100*492/10000"
   ]
  },
  {
   "cell_type": "code",
   "execution_count": 42,
   "id": "abd0b44b",
   "metadata": {},
   "outputs": [
    {
     "data": {
      "text/plain": [
       "81.9799024598686"
      ]
     },
     "execution_count": 42,
     "metadata": {},
     "output_type": "execute_result"
    }
   ],
   "source": [
    "np.percentile(x, 99)"
   ]
  },
  {
   "cell_type": "code",
   "execution_count": 43,
   "id": "993de356",
   "metadata": {},
   "outputs": [],
   "source": [
    "mu = 90\n",
    "sigma = 2"
   ]
  },
  {
   "cell_type": "code",
   "execution_count": 44,
   "id": "2987a2b6",
   "metadata": {},
   "outputs": [],
   "source": [
    "\n",
    "y = np.random.normal(mu, sigma, 10000)"
   ]
  },
  {
   "cell_type": "code",
   "execution_count": 45,
   "id": "7df83441",
   "metadata": {
    "scrolled": true
   },
   "outputs": [
    {
     "name": "stderr",
     "output_type": "stream",
     "text": [
      "/opt/anaconda3/lib/python3.11/site-packages/seaborn/_oldcore.py:1119: FutureWarning: use_inf_as_na option is deprecated and will be removed in a future version. Convert inf values to NaN before operating instead.\n",
      "  with pd.option_context('mode.use_inf_as_na', True):\n"
     ]
    },
    {
     "data": {
      "image/png": "[encoded data removed]",
      "text/plain": [
       "<Figure size 500x500 with 1 Axes>"
      ]
     },
     "metadata": {},
     "output_type": "display_data"
    }
   ],
   "source": [
    "sns.displot(y, color='gray')\n",
    "plt.axvline(mu, color='orange')\n",
    "for v in [-3, -2, -1, 1, 2, 3]:\n",
    "    plt.axvline(mu+v*sigma, color='olivedrab')\n",
    "_ = plt.axvline(x_i, color='purple')"
   ]
  },
  {
   "cell_type": "code",
   "execution_count": 46,
   "id": "43f42f4b",
   "metadata": {},
   "outputs": [
    {
     "data": {
      "text/plain": [
       "-5.0"
      ]
     },
     "execution_count": 46,
     "metadata": {},
     "output_type": "execute_result"
    }
   ],
   "source": [
    "z = (x_i - mu)/sigma\n",
    "z\n"
   ]
  },
  {
   "cell_type": "markdown",
   "id": "19fb38eb",
   "metadata": {},
   "source": [
    "-5 sd below mean"
   ]
  },
  {
   "cell_type": "markdown",
   "id": "1d892e03",
   "metadata": {},
   "source": [
    "<div class=\"alert alert-block alert-success\">\n",
    "<b>25/4/24</b> \n",
    "</div>"
   ]
  },
  {
   "cell_type": "markdown",
   "id": "cb51a6a4",
   "metadata": {},
   "source": [
    "# p-scores\n"
   ]
  },
  {
   "cell_type": "code",
   "execution_count": 47,
   "id": "96f22464",
   "metadata": {},
   "outputs": [
    {
     "data": {
      "text/plain": [
       "0.006209665325776132"
      ]
     },
     "execution_count": 47,
     "metadata": {},
     "output_type": "execute_result"
    }
   ],
   "source": [
    "p_below = st.norm.cdf(-2.5)\n",
    "p_below"
   ]
  },
  {
   "cell_type": "code",
   "execution_count": 48,
   "id": "ae88d1a5",
   "metadata": {},
   "outputs": [
    {
     "data": {
      "text/plain": [
       "62.096653257761325"
      ]
     },
     "execution_count": 48,
     "metadata": {},
     "output_type": "execute_result"
    }
   ],
   "source": [
    "p_below*10000"
   ]
  },
  {
   "cell_type": "code",
   "execution_count": 49,
   "id": "d21a8ae2",
   "metadata": {
    "scrolled": true
   },
   "outputs": [
    {
     "name": "stderr",
     "output_type": "stream",
     "text": [
      "/opt/anaconda3/lib/python3.11/site-packages/seaborn/_oldcore.py:1119: FutureWarning: use_inf_as_na option is deprecated and will be removed in a future version. Convert inf values to NaN before operating instead.\n",
      "  with pd.option_context('mode.use_inf_as_na', True):\n"
     ]
    },
    {
     "data": {
      "image/png": "[encoded data removed]",
      "text/plain": [
       "<Figure size 500x500 with 1 Axes>"
      ]
     },
     "metadata": {},
     "output_type": "display_data"
    }
   ],
   "source": [
    "sns.displot(y, color='gray')\n",
    "_ = plt.axvline(mu-2.5*sigma, color='blue')"
   ]
  },
  {
   "cell_type": "code",
   "execution_count": 50,
   "id": "e98bb7da",
   "metadata": {},
   "outputs": [
    {
     "data": {
      "text/plain": [
       "0.9937903346742238"
      ]
     },
     "execution_count": 50,
     "metadata": {},
     "output_type": "execute_result"
    }
   ],
   "source": [
    "st.norm.cdf(2.5)"
   ]
  },
  {
   "cell_type": "code",
   "execution_count": 51,
   "id": "a127b24d",
   "metadata": {},
   "outputs": [
    {
     "data": {
      "text/plain": [
       "0.006209665325776159"
      ]
     },
     "execution_count": 51,
     "metadata": {},
     "output_type": "execute_result"
    }
   ],
   "source": [
    "p_above = 1-st.norm.cdf(2.5)\n",
    "p_above"
   ]
  },
  {
   "cell_type": "code",
   "execution_count": 52,
   "id": "ef722971",
   "metadata": {},
   "outputs": [
    {
     "data": {
      "text/plain": [
       "62.09665325776159"
      ]
     },
     "execution_count": 52,
     "metadata": {},
     "output_type": "execute_result"
    }
   ],
   "source": [
    "p_above*10000"
   ]
  },
  {
   "cell_type": "code",
   "execution_count": 53,
   "id": "446bc519",
   "metadata": {},
   "outputs": [
    {
     "name": "stderr",
     "output_type": "stream",
     "text": [
      "/opt/anaconda3/lib/python3.11/site-packages/seaborn/_oldcore.py:1119: FutureWarning: use_inf_as_na option is deprecated and will be removed in a future version. Convert inf values to NaN before operating instead.\n",
      "  with pd.option_context('mode.use_inf_as_na', True):\n"
     ]
    },
    {
     "data": {
      "image/png": "[encoded data removed]",
      "text/plain": [
       "<Figure size 500x500 with 1 Axes>"
      ]
     },
     "metadata": {},
     "output_type": "display_data"
    }
   ],
   "source": [
    "sns.displot(y, color='gray')\n",
    "_ = plt.axvline(mu+2.5*sigma, color='blue')"
   ]
  },
  {
   "cell_type": "code",
   "execution_count": 54,
   "id": "f63dd15a",
   "metadata": {},
   "outputs": [
    {
     "data": {
      "text/plain": [
       "0.01241933065155229"
      ]
     },
     "execution_count": 54,
     "metadata": {},
     "output_type": "execute_result"
    }
   ],
   "source": [
    "p_outside = p_below + p_above\n",
    "p_outside"
   ]
  },
  {
   "cell_type": "code",
   "execution_count": 55,
   "id": "1202af03",
   "metadata": {},
   "outputs": [
    {
     "data": {
      "text/plain": [
       "124.1933065155229"
      ]
     },
     "execution_count": 55,
     "metadata": {},
     "output_type": "execute_result"
    }
   ],
   "source": [
    "p_outside*10000"
   ]
  },
  {
   "cell_type": "code",
   "execution_count": 56,
   "id": "6701b6f4",
   "metadata": {},
   "outputs": [
    {
     "name": "stderr",
     "output_type": "stream",
     "text": [
      "/opt/anaconda3/lib/python3.11/site-packages/seaborn/_oldcore.py:1119: FutureWarning: use_inf_as_na option is deprecated and will be removed in a future version. Convert inf values to NaN before operating instead.\n",
      "  with pd.option_context('mode.use_inf_as_na', True):\n"
     ]
    },
    {
     "data": {
      "image/png": "[encoded data removed]",
      "text/plain": [
       "<Figure size 500x500 with 1 Axes>"
      ]
     },
     "metadata": {},
     "output_type": "display_data"
    }
   ],
   "source": [
    "sns.displot(y, color='gray')\n",
    "plt.axvline(mu+2.5*sigma, color='blue')\n",
    "_ = plt.axvline(mu-2.5*sigma, color='blue')"
   ]
  },
  {
   "cell_type": "markdown",
   "id": "54a7f1c6",
   "metadata": {},
   "source": [
    "compareing mean with t-scoe\n",
    "html"
   ]
  },
  {
   "cell_type": "code",
   "execution_count": 57,
   "id": "cad0439b",
   "metadata": {},
   "outputs": [],
   "source": [
    "x = [50, 70, 84, 90]"
   ]
  },
  {
   "cell_type": "code",
   "execution_count": 58,
   "id": "65fd1b2f",
   "metadata": {},
   "outputs": [
    {
     "data": {
      "text/plain": [
       "73.5"
      ]
     },
     "execution_count": 58,
     "metadata": {},
     "output_type": "execute_result"
    }
   ],
   "source": [
    "xbar = np.mean(x)\n",
    "xbar"
   ]
  },
  {
   "cell_type": "code",
   "execution_count": 59,
   "id": "11d90cc5",
   "metadata": {},
   "outputs": [
    {
     "data": {
      "text/plain": [
       "8.88350531415762"
      ]
     },
     "execution_count": 59,
     "metadata": {},
     "output_type": "execute_result"
    }
   ],
   "source": [
    "sx = st.sem(x)\n",
    "sx"
   ]
  },
  {
   "cell_type": "code",
   "execution_count": 60,
   "id": "b6cf58d7",
   "metadata": {},
   "outputs": [
    {
     "data": {
      "text/plain": [
       "2.645352163244402"
      ]
     },
     "execution_count": 60,
     "metadata": {},
     "output_type": "execute_result"
    }
   ],
   "source": [
    "t = (xbar-50)/sx\n",
    "t"
   ]
  },
  {
   "cell_type": "code",
   "execution_count": 61,
   "id": "76635ea5",
   "metadata": {},
   "outputs": [],
   "source": [
    "# my_n is number of observation that you wnat to compare it to the mean\n",
    "\n",
    "def p_from_t(my_t, my_n):\n",
    "    return 2 * st.t.cdf(-abs(my_t), my_n-1) # 2nd arg to t.cdf() is \"degrees of freedom\""
   ]
  },
  {
   "cell_type": "code",
   "execution_count": 62,
   "id": "48e4d7cb",
   "metadata": {},
   "outputs": [
    {
     "data": {
      "text/plain": [
       "0.07730070297314764"
      ]
     },
     "execution_count": 62,
     "metadata": {},
     "output_type": "execute_result"
    }
   ],
   "source": [
    "# when p_value is <0.5 mean the provided observation\n",
    "# is not significantly differ from the provided mean\n",
    "p_from_t(t, len(x))"
   ]
  },
  {
   "cell_type": "code",
   "execution_count": 63,
   "id": "7fbb2eed",
   "metadata": {},
   "outputs": [
    {
     "data": {
      "text/plain": [
       "TtestResult(statistic=2.6453521632444024, pvalue=0.07730070297314758, df=3)"
      ]
     },
     "execution_count": 63,
     "metadata": {},
     "output_type": "execute_result"
    }
   ],
   "source": [
    "st.ttest_1samp(x, 50)"
   ]
  },
  {
   "cell_type": "markdown",
   "id": "561efe56",
   "metadata": {},
   "source": [
    "wlench t score html"
   ]
  },
  {
   "cell_type": "code",
   "execution_count": null,
   "id": "59deba97",
   "metadata": {},
   "outputs": [],
   "source": []
  },
  {
   "cell_type": "code",
   "execution_count": null,
   "id": "1f3a5ec4",
   "metadata": {},
   "outputs": [],
   "source": []
  },
  {
   "cell_type": "code",
   "execution_count": null,
   "id": "9f64fcd3",
   "metadata": {},
   "outputs": [],
   "source": []
  },
  {
   "cell_type": "code",
   "execution_count": null,
   "id": "6a347bf5",
   "metadata": {},
   "outputs": [],
   "source": []
  },
  {
   "cell_type": "code",
   "execution_count": null,
   "id": "e0400d00",
   "metadata": {},
   "outputs": [],
   "source": []
  },
  {
   "cell_type": "code",
   "execution_count": null,
   "id": "62aabc1e",
   "metadata": {},
   "outputs": [],
   "source": []
  },
  {
   "cell_type": "code",
   "execution_count": null,
   "id": "1d04abd2",
   "metadata": {},
   "outputs": [],
   "source": []
  },
  {
   "cell_type": "code",
   "execution_count": null,
   "id": "0cc06e6d",
   "metadata": {},
   "outputs": [],
   "source": []
  },
  {
   "cell_type": "code",
   "execution_count": null,
   "id": "3bcd7442",
   "metadata": {},
   "outputs": [],
   "source": []
  },
  {
   "cell_type": "code",
   "execution_count": null,
   "id": "71b2c523",
   "metadata": {},
   "outputs": [],
   "source": []
  },
  {
   "cell_type": "code",
   "execution_count": null,
   "id": "3430befe",
   "metadata": {},
   "outputs": [],
   "source": []
  },
  {
   "cell_type": "code",
   "execution_count": null,
   "id": "a2f66653",
   "metadata": {},
   "outputs": [],
   "source": []
  },
  {
   "cell_type": "code",
   "execution_count": null,
   "id": "aec8dd22",
   "metadata": {},
   "outputs": [],
   "source": []
  }
 ],
 "metadata": {
  "kernelspec": {
   "display_name": "Python 3 (ipykernel)",
   "language": "python",
   "name": "python3"
  },
  "language_info": {
   "codemirror_mode": {
    "name": "ipython",
    "version": 3
   },
   "file_extension": ".py",
   "mimetype": "text/x-python",
   "name": "python",
   "nbconvert_exporter": "python",
   "pygments_lexer": "ipython3",
   "version": "3.11.7"
  }
 },
 "nbformat": 4,
 "nbformat_minor": 5
}
